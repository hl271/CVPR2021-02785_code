{
  "cells": [
    {
      "cell_type": "markdown",
      "metadata": {
        "id": "view-in-github",
        "colab_type": "text"
      },
      "source": [
        "<a href=\"https://colab.research.google.com/github/hl271/CVPR2021-02785_code/blob/main/m%E1%BA%A1ng_1_core_c%C3%B3_generate_data_cho_hardware.ipynb\" target=\"_parent\"><img src=\"https://colab.research.google.com/assets/colab-badge.svg\" alt=\"Open In Colab\"/></a>"
      ]
    },
    {
      "cell_type": "markdown",
      "metadata": {
        "id": "GHVGheNRqSZa"
      },
      "source": [
        "# **GIẢ LẬP KIẾN TRÚC RANC VỚI TẬP MNIST**"
      ]
    },
    {
      "cell_type": "markdown",
      "metadata": {
        "id": "sc2jKO0yYIeT"
      },
      "source": [
        "\n",
        "Tiến hành download toàn bộ code trong đường link này:\n",
        "https://github.com/UA-RCL/RANC/tree/master/software\n",
        "sau đó up lên colab, giải nén\n",
        "\n",
        "Có thể sử dụng link này để download: https://minhaskamal.github.io/DownGit/#/home\n"
      ]
    },
    {
      "cell_type": "code",
      "execution_count": null,
      "metadata": {
        "id": "Q6SiX2Ti8m7k"
      },
      "outputs": [],
      "source": [
        "!unzip \"software_fixed.zip\""
      ]
    },
    {
      "cell_type": "markdown",
      "metadata": {
        "id": "56eEv45AYP87"
      },
      "source": [
        "Code này sẽ sử dụng tealayer2.0 (sử dụng tensorflow 2.x)\n",
        "\n",
        "Sau khi giải nén, do code mặc định của họ đang sử dụng tensorflow 2.0.0b1 mà phiên bản đó giờ không còn được hỗ trợ nên cần phải chỉnh lại.\n",
        "\n",
        "=> Truy cập \"./sofware/tealayers/tealayer2.0/setup.py\", chỉnh dòng 19 thành 'tensorflow-gpu==2.7.0' hoặc bất cứ phiên bản 2.x nào đang được hỗ trợ rồi lưu lại"
      ]
    },
    {
      "cell_type": "markdown",
      "metadata": {
        "id": "tsqa8REUaMZv"
      },
      "source": [
        "Code của họ bị sai ở một đoạn, để sửa:\n",
        "\n",
        "=> Đi đến \"./software/tealayers/tealayer2.0/tealayer2/additivepooling.py\"\n",
        "\n",
        "Sửa dòng 73 thành \"output = tf.reshape(output, [-1, int(self.num_inputs//self.num_classes), self.num_classes])\" rồi lưu lại"
      ]
    },
    {
      "cell_type": "code",
      "execution_count": null,
      "metadata": {
        "id": "0Jl4sBiVzNS_",
        "colab": {
          "base_uri": "https://localhost:8080/"
        },
        "outputId": "e8bd1cf9-537d-4d09-bdef-9dee4245ee3a"
      },
      "outputs": [
        {
          "output_type": "stream",
          "name": "stdout",
          "text": [
            "[Errno 2] No such file or directory: './software'\n",
            "/content/software\n"
          ]
        }
      ],
      "source": [
        "cd \"./software\""
      ]
    },
    {
      "cell_type": "code",
      "execution_count": null,
      "metadata": {
        "id": "M23YKlD694fI"
      },
      "outputs": [],
      "source": [
        "!pip install \"./tealayers/tealayer2.0\"\n",
        "!pip install \"./rancutils\""
      ]
    },
    {
      "cell_type": "markdown",
      "metadata": {
        "id": "aBM19A2ESIKj"
      },
      "source": [
        "# **CÀI ĐẶT CÁC THƯ VIỆN CẦN THIẾT**"
      ]
    },
    {
      "cell_type": "code",
      "execution_count": null,
      "metadata": {
        "colab": {
          "base_uri": "https://localhost:8080/"
        },
        "id": "uHz8iMojSHtI",
        "outputId": "e82104e6-365f-4263-cc5f-58e7e363d2e2"
      },
      "outputs": [
        {
          "output_type": "stream",
          "name": "stderr",
          "text": [
            "WARNING:tensorflow:From /usr/local/lib/python3.7/dist-packages/tensorflow/python/compat/v2_compat.py:107: disable_resource_variables (from tensorflow.python.ops.variable_scope) is deprecated and will be removed in a future version.\n",
            "Instructions for updating:\n",
            "non-resource variables are not supported in the long term\n"
          ]
        }
      ],
      "source": [
        "from tensorflow.image import resize as rz\n",
        "from tealayer2 import Tea, AdditivePooling\n",
        "from tensorflow.keras.layers import Flatten, Activation, Input, Lambda, concatenate\n",
        "from tensorflow.keras.datasets import mnist\n",
        "from tensorflow.keras.optimizers import Adam\n",
        "from tensorflow.keras.utils import to_categorical\n",
        "from tensorflow.keras import Model\n",
        "import numpy as np\n",
        "import tensorflow.compat.v1 as tf\n",
        "tf.disable_v2_behavior()"
      ]
    },
    {
      "cell_type": "markdown",
      "metadata": {
        "id": "JiUNlPiLSAEM"
      },
      "source": [
        "# **KHỞI TẠO MẠNG**"
      ]
    },
    {
      "cell_type": "code",
      "execution_count": null,
      "metadata": {
        "id": "bcghk_23SXWz"
      },
      "outputs": [],
      "source": [
        "# set kích cỡ ảnh thành 16 x 16\n",
        "inputs = Input(shape=(16,16,1))\n",
        "\n",
        "# Flatten the inputs so that inputs map as: flatten_input[0] -> axon[0], ..., flatten_input[255] -> axon[255]\n",
        "flattened_inputs = Flatten()(inputs)\n",
        "\n",
        "# Generate core, đưa 256 pixel của ảnh vào core.\n",
        "\n",
        "core0 = Lambda(lambda x : x[:, :256])(flattened_inputs)\n",
        "core0 = Tea(units=250, name='tea_1')(core0)\n",
        "core0 = AdditivePooling(10)(core0)"
      ]
    },
    {
      "cell_type": "markdown",
      "metadata": {
        "id": "ZAS5HF-dV4ET"
      },
      "source": [
        "# **TRAIN MODEL**"
      ]
    },
    {
      "cell_type": "code",
      "execution_count": null,
      "metadata": {
        "id": "dgyBxubCR_EB"
      },
      "outputs": [],
      "source": [
        "# Chuẩn bị dataset để train\n",
        "(X_train, y_train), (X_test, y_test) = mnist.load_data()\n",
        "\n",
        "\n",
        "# expand new axis, channel axis\n",
        "X_train = np.expand_dims(X_train, axis=-1)\n",
        "X_test = np.expand_dims(X_test, axis=-1)\n",
        "\n",
        "# [optional]: we may need 3 channel (instead of 1)\n",
        "X_train = np.repeat(X_train, 1, axis=-1)\n",
        "X_test = np.repeat(X_test, 1, axis=-1)\n",
        "\n",
        "# it's always better to normalize\n",
        "X_train = X_train.astype('float32') / 255\n",
        "X_test = X_test.astype('float32') / 255\n",
        "\n",
        "# resize the input shape. old shape: 28, new shape: 16\n",
        "X_train = rz(X_train, [16,16])\n",
        "X_test = rz(X_test, [16,16])\n",
        "\n",
        "\n",
        "from tensorflow.python.keras import backend\n",
        "sess = backend.get_session()\n",
        "X_train = sess.run(X_train)\n",
        "X_test = sess.run(X_test)\n",
        "\n",
        "\n",
        "# X_train = X_train.eval()\n",
        "# X_test = X_test.eval()\n",
        "\n",
        "y_train = to_categorical(y_train, 10)\n",
        "y_test = to_categorical(y_test, 10)\n",
        "\n",
        "predictions = Activation('softmax')(core0)\n",
        "\n",
        "model = Model(inputs=inputs, outputs=predictions)\n",
        "\n",
        "model.compile(loss='categorical_crossentropy', optimizer=Adam(), metrics=['accuracy'])\n",
        "\n",
        "# X_train = X_train.reshape(-1, 16, 16, 1)\n",
        "# X_test = X_test.reshape(-1, 16, 16, 1)\n",
        "\n",
        "model.fit(X_train, y_train, batch_size=128, epochs=10, verbose=1, validation_split=0.2)\n",
        "\n",
        "score = model.evaluate(X_test, y_test, verbose=0)\n",
        "\n",
        "print(\"Test Loss: \", score[0])\n",
        "print(\"Test Accuracy: \", score[1])"
      ]
    },
    {
      "cell_type": "markdown",
      "source": [
        "# **TEST THỬ MODEL**"
      ],
      "metadata": {
        "id": "_m6oAtUMtJuU"
      }
    },
    {
      "cell_type": "markdown",
      "source": [
        "*Số lượng ảnh cần test*"
      ],
      "metadata": {
        "id": "s1V8t98ptecH"
      }
    },
    {
      "cell_type": "code",
      "source": [
        "%cd /content/software"
      ],
      "metadata": {
        "id": "KvX7ajyitlxN",
        "colab": {
          "base_uri": "https://localhost:8080/"
        },
        "outputId": "f67e7d11-7df0-41da-e361-4b4e008d23f6"
      },
      "execution_count": null,
      "outputs": [
        {
          "output_type": "stream",
          "name": "stdout",
          "text": [
            "/content/software\n"
          ]
        }
      ]
    },
    {
      "cell_type": "code",
      "source": [
        "num_test_samples = 1"
      ],
      "metadata": {
        "id": "06g2rBuhteCN"
      },
      "execution_count": null,
      "outputs": []
    },
    {
      "cell_type": "code",
      "source": [
        "X_test_temp = X_test.reshape(-1, 16, 16)\n",
        "import matplotlib.pyplot as plt\n",
        "for pic in range(num_test_samples):\n",
        "  plt.imshow(X_test_temp[pic], cmap='gray')\n",
        "  plt.show()"
      ],
      "metadata": {
        "id": "jl4e4VFQuL2b",
        "colab": {
          "base_uri": "https://localhost:8080/",
          "height": 265
        },
        "outputId": "128b61f9-c527-4aeb-9552-afa6a684faba"
      },
      "execution_count": null,
      "outputs": [
        {
          "output_type": "display_data",
          "data": {
            "text/plain": [
              "<Figure size 432x288 with 1 Axes>"
            ],
            "image/png": "[encoded data removed]"
          },
          "metadata": {
            "needs_background": "light"
          }
        }
      ]
    },
    {
      "cell_type": "code",
      "source": [
        "predict = model.predict(X_test[:num_test_samples,:])\n",
        "print(predict)"
      ],
      "metadata": {
        "id": "z1CsN8RVtO-a",
        "colab": {
          "base_uri": "https://localhost:8080/"
        },
        "outputId": "5fc8ecfc-eb94-4740-9c87-6a2524e0c0d5"
      },
      "execution_count": null,
      "outputs": [
        {
          "output_type": "stream",
          "name": "stderr",
          "text": [
            "/usr/local/lib/python3.7/dist-packages/keras/engine/training_v1.py:2067: UserWarning: `Model.state_updates` will be removed in a future version. This property should not be used in TensorFlow 2.0, as `updates` are applied automatically.\n",
            "  updates=self.state_updates,\n"
          ]
        },
        {
          "output_type": "stream",
          "name": "stdout",
          "text": [
            "[[8.3143692e-07 5.6021778e-09 8.3143692e-07 4.5394918e-05 3.0586855e-07\n",
            "  1.6699856e-05 1.5228300e-08 9.9988961e-01 8.3143692e-07 4.5394918e-05]]\n"
          ]
        }
      ]
    },
    {
      "cell_type": "markdown",
      "source": [
        "*Lưu lại output predict*"
      ],
      "metadata": {
        "id": "JOkGGNHZtrCg"
      }
    },
    {
      "cell_type": "code",
      "source": [
        "predict_labels = []\n",
        "for i in predict:\n",
        "  predict_labels.append(np.argmax(i)) # xác suất rơi vào label nào lớn nhất\n",
        "test_predictions = to_categorical(predict_labels) # lưu dưới dạng one-hot\n",
        "np.save(\"mnist_tf_preds.txt\", test_predictions)"
      ],
      "metadata": {
        "id": "tn4shvmjttse"
      },
      "execution_count": null,
      "outputs": []
    },
    {
      "cell_type": "markdown",
      "source": [
        "*Nhãn dự đoán từ model*"
      ],
      "metadata": {
        "id": "NIl8mwF6vgy8"
      }
    },
    {
      "cell_type": "code",
      "source": [
        "print(predict_labels)"
      ],
      "metadata": {
        "id": "UEZqUBl2vSPT",
        "colab": {
          "base_uri": "https://localhost:8080/"
        },
        "outputId": "cbb7d770-4fbc-4b3c-95a0-9a57d903a691"
      },
      "execution_count": null,
      "outputs": [
        {
          "output_type": "stream",
          "name": "stdout",
          "text": [
            "[7]\n"
          ]
        }
      ]
    },
    {
      "cell_type": "markdown",
      "metadata": {
        "id": "pmLElL37WP5O"
      },
      "source": [
        "# **GENERATE MẠNG VÀ CÁC PACKET CHO PHẦN CỨNG**"
      ]
    },
    {
      "cell_type": "code",
      "execution_count": null,
      "metadata": {
        "id": "8UFj0wDIWQeo",
        "colab": {
          "base_uri": "https://localhost:8080/"
        },
        "outputId": "348a5ee6-a16f-489f-db13-450793933017"
      },
      "outputs": [
        {
          "output_type": "stream",
          "name": "stdout",
          "text": [
            "/content/software\n"
          ]
        }
      ],
      "source": [
        "%cd /content/software\n",
        "# Optionally, then save the generated network out for use in the simulator and/or hardware\n",
        "from rancutils.teaconversion import create_cores, create_packets, Packet\n",
        "from rancutils.output_bus import OutputBus\n",
        "from rancutils.serialization import save as sim_save\n",
        "\n",
        "x_test_flat = X_test.reshape((10000, 256))\n",
        "partitioned_packets = []\n",
        "\n",
        "#test với 1 ảnh\n",
        "# num_test_samples = 1\n",
        "# Tạo các core bằng hàm create_cores(), sử dụng 1 layer, sử dụng 0 reset mode: neuron_reset_type=0\n",
        "cores_sim = create_cores(model, 1, neuron_reset_type=0)\n",
        "# Partition the packets into groups as they will be fed into each of the input cores\n",
        "partitioned_packets.append(x_test_flat[:num_test_samples, :256])\n",
        "# Tạo packet bằng hàm create_packets()\n",
        "packets_sim = create_packets(partitioned_packets)\n",
        "# Tạo output_bus bằng hàm OutputBus(coordinate, num_outputs)\n",
        "output_bus_sim = OutputBus((0, 1), num_outputs=250)\n",
        "\n",
        "# Đây chính là file đầu vào cho giả lập kiến trúc RANC bằng code C++\n",
        "sim_save(\"input.json\", cores_sim, packets_sim, output_bus_sim, indent=2)\n",
        "# Lưu lại đầu ra của tensorflow predictions và correct labels để tý làm cross validation\n",
        "predict = model.predict(X_test[:num_test_samples,:])\n",
        "idx = []\n",
        "for i in predict:\n",
        "  idx.append(np.argmax(i))\n",
        "test_predictions = to_categorical(idx)\n",
        "np.save(\"tf_preds.txt\", test_predictions)\n",
        "np.save(\"correct_preds.txt\", y_test[:num_test_samples,:])"
      ]
    },
    {
      "cell_type": "markdown",
      "metadata": {
        "id": "wx6tZ5Q-CP4j"
      },
      "source": [
        "**Lưu file mem**"
      ]
    },
    {
      "cell_type": "code",
      "execution_count": null,
      "metadata": {
        "id": "md4ZlYjh2O-m"
      },
      "outputs": [],
      "source": [
        "from rancutils.emulation import output_for_testbench, output_for_streaming"
      ]
    },
    {
      "cell_type": "code",
      "execution_count": null,
      "metadata": {
        "id": "N7iT10JZ3WMB"
      },
      "outputs": [],
      "source": [
        "output_for_streaming(cores_sim,max_xy=(1,1),output_path=\"/content/mnist_1_core_mem\")"
      ]
    },
    {
      "cell_type": "code",
      "source": [
        "!zip -r /content/mnist_1_core_mem.zip /content/mnist_1_core_mem"
      ],
      "metadata": {
        "id": "afoMOsnTuvkb",
        "colab": {
          "base_uri": "https://localhost:8080/"
        },
        "outputId": "eed5160e-2d16-4d4a-a596-71345390ab60"
      },
      "execution_count": null,
      "outputs": [
        {
          "output_type": "stream",
          "name": "stdout",
          "text": [
            "  adding: content/mnist_1_core_mem/ (stored 0%)\n",
            "  adding: content/mnist_1_core_mem/tc_000.mem (deflated 98%)\n",
            "  adding: content/mnist_1_core_mem/csram_000.mem (deflated 87%)\n"
          ]
        }
      ]
    },
    {
      "cell_type": "code",
      "source": [
        "from google.colab import files\n",
        "files.download(\"/content/mnist_1_core_mem.zip\")"
      ],
      "metadata": {
        "id": "Y8kSJmDbIbJY",
        "colab": {
          "base_uri": "https://localhost:8080/",
          "height": 17
        },
        "outputId": "fe8f6bbb-84f9-41c7-abd0-9b6e450a1605"
      },
      "execution_count": null,
      "outputs": [
        {
          "output_type": "display_data",
          "data": {
            "text/plain": [
              "<IPython.core.display.Javascript object>"
            ],
            "application/javascript": [
              "\n",
              "    async function download(id, filename, size) {\n",
              "      if (!google.colab.kernel.accessAllowed) {\n",
              "        return;\n",
              "      }\n",
              "      const div = document.createElement('div');\n",
              "      const label = document.createElement('label');\n",
              "      label.textContent = `Downloading \"${filename}\": `;\n",
              "      div.appendChild(label);\n",
              "      const progress = document.createElement('progress');\n",
              "      progress.max = size;\n",
              "      div.appendChild(progress);\n",
              "      document.body.appendChild(div);\n",
              "\n",
              "      const buffers = [];\n",
              "      let downloaded = 0;\n",
              "\n",
              "      const channel = await google.colab.kernel.comms.open(id);\n",
              "      // Send a message to notify the kernel that we're ready.\n",
              "      channel.send({})\n",
              "\n",
              "      for await (const message of channel.messages) {\n",
              "        // Send a message to notify the kernel that we're ready.\n",
              "        channel.send({})\n",
              "        if (message.buffers) {\n",
              "          for (const buffer of message.buffers) {\n",
              "            buffers.push(buffer);\n",
              "            downloaded += buffer.byteLength;\n",
              "            progress.value = downloaded;\n",
              "          }\n",
              "        }\n",
              "      }\n",
              "      const blob = new Blob(buffers, {type: 'application/binary'});\n",
              "      const a = document.createElement('a');\n",
              "      a.href = window.URL.createObjectURL(blob);\n",
              "      a.download = filename;\n",
              "      div.appendChild(a);\n",
              "      a.click();\n",
              "      div.remove();\n",
              "    }\n",
              "  "
            ]
          },
          "metadata": {}
        },
        {
          "output_type": "display_data",
          "data": {
            "text/plain": [
              "<IPython.core.display.Javascript object>"
            ],
            "application/javascript": [
              "download(\"download_2c281aac-8b7a-45de-ab80-cfedc98bb172\", \"mnist_1_core_mem.zip\", 12595)"
            ]
          },
          "metadata": {}
        }
      ]
    },
    {
      "cell_type": "markdown",
      "metadata": {
        "id": "WUKca9YCCUiD"
      },
      "source": [
        "**Lưu input và output chuẩn**"
      ]
    },
    {
      "cell_type": "code",
      "execution_count": null,
      "metadata": {
        "id": "OipnSEtm00GU"
      },
      "outputs": [],
      "source": [
        "# lưu input và output chuẩn\n",
        "output_for_testbench(packets_sim,\n",
        "                         y_test[:num_test_samples,:],\n",
        "                         output_path='/content/',\n",
        "                         input_filename='tb_input.txt',\n",
        "                         correct_filename='tb_correct.txt',\n",
        "                         num_inputs_filename='tb_num_inputs.txt',\n",
        "                         num_outputs_filename='tb_num_outputs.txt',\n",
        "                         max_packet_xy=(512, 512),\n",
        "                         num_axons=256,\n",
        "                         num_ticks=16,\n",
        "                         num_outputs=250)"
      ]
    },
    {
      "cell_type": "markdown",
      "metadata": {
        "id": "NXUTG5vJdpsV"
      },
      "source": [
        "Sau khi chạy xong đoạn code này, 3 file mới sẽ được tạo ra. Tiến hành tải file \"mnist_config.json\" về để làm input file cho code RANC simulator C++"
      ]
    },
    {
      "cell_type": "markdown",
      "metadata": {
        "id": "_7iP2MulazDV"
      },
      "source": [
        "# **C++**"
      ]
    },
    {
      "cell_type": "markdown",
      "metadata": {
        "id": "59mywRAGsLK2"
      },
      "source": [
        "**Compile code**"
      ]
    },
    {
      "cell_type": "code",
      "execution_count": null,
      "metadata": {
        "colab": {
          "base_uri": "https://localhost:8080/"
        },
        "id": "JRkhibSsbOqL",
        "outputId": "e9731e08-f424-4b67-9b79-43d53d02358c"
      },
      "outputs": [
        {
          "output_type": "stream",
          "name": "stdout",
          "text": [
            "/content\n"
          ]
        }
      ],
      "source": [
        "cd \"/content/\""
      ]
    },
    {
      "cell_type": "code",
      "execution_count": null,
      "metadata": {
        "id": "eyVAzbOrZG_y"
      },
      "outputs": [],
      "source": [
        "!unzip \"simulator.zip\""
      ]
    },
    {
      "cell_type": "code",
      "execution_count": null,
      "metadata": {
        "colab": {
          "base_uri": "https://localhost:8080/"
        },
        "id": "al1m8tDOba2r",
        "outputId": "47e868e8-9f18-4612-a2ed-7ed92eff6975"
      },
      "outputs": [
        {
          "output_type": "stream",
          "name": "stdout",
          "text": [
            "/content/simulator\n"
          ]
        }
      ],
      "source": [
        "cd \"./simulator/\""
      ]
    },
    {
      "cell_type": "code",
      "execution_count": null,
      "metadata": {
        "id": "bPRlcKqWb_Ef"
      },
      "outputs": [],
      "source": [
        "!mkdir build"
      ]
    },
    {
      "cell_type": "code",
      "execution_count": null,
      "metadata": {
        "colab": {
          "base_uri": "https://localhost:8080/"
        },
        "id": "8jpMr4FCbbUo",
        "outputId": "e6423fb4-170c-49ef-f91d-e94645a951e4"
      },
      "outputs": [
        {
          "output_type": "stream",
          "name": "stdout",
          "text": [
            "/content/simulator/build\n"
          ]
        }
      ],
      "source": [
        "cd build"
      ]
    },
    {
      "cell_type": "code",
      "execution_count": null,
      "metadata": {
        "id": "O_IM4WGXcBbB",
        "colab": {
          "base_uri": "https://localhost:8080/"
        },
        "outputId": "1d4d4d79-2e22-4445-f961-e53b36b49502"
      },
      "outputs": [
        {
          "output_type": "stream",
          "name": "stdout",
          "text": [
            "\u001b[0mCMake Deprecation Warning at CMakeLists.txt:1 (cmake_minimum_required):\n",
            "  Compatibility with CMake < 2.8.12 will be removed from a future version of\n",
            "  CMake.\n",
            "\n",
            "  Update the VERSION argument <min> value or use a ...<max> suffix to tell\n",
            "  CMake that the project does not need compatibility with older versions.\n",
            "\n",
            "\u001b[0m\n",
            "-- The C compiler identification is GNU 7.5.0\n",
            "-- The CXX compiler identification is GNU 7.5.0\n",
            "-- Detecting C compiler ABI info\n",
            "-- Detecting C compiler ABI info - done\n",
            "-- Check for working C compiler: /usr/bin/cc - skipped\n",
            "-- Detecting C compile features\n",
            "-- Detecting C compile features - done\n",
            "-- Detecting CXX compiler ABI info\n",
            "-- Detecting CXX compiler ABI info - done\n",
            "-- Check for working CXX compiler: /usr/bin/c++ - skipped\n",
            "-- Detecting CXX compile features\n",
            "-- Detecting CXX compile features - done\n",
            "-- Configuring done\n",
            "-- Generating done\n",
            "-- Build files have been written to: /content/simulator/build\n",
            "[  8%] \u001b[32mBuilding CXX object CMakeFiles/ranc_sim.dir/src/core.cpp.o\u001b[0m\n",
            "[ 16%] \u001b[32mBuilding CXX object CMakeFiles/ranc_sim.dir/src/corecontroller.cpp.o\u001b[0m\n",
            "[ 25%] \u001b[32mBuilding CXX object CMakeFiles/ranc_sim.dir/src/csramrow.cpp.o\u001b[0m\n",
            "[ 33%] \u001b[32mBuilding CXX object CMakeFiles/ranc_sim.dir/src/main.cpp.o\u001b[0m\n",
            "[ 41%] \u001b[32mBuilding CXX object CMakeFiles/ranc_sim.dir/src/neuronblock.cpp.o\u001b[0m\n",
            "[ 50%] \u001b[32mBuilding CXX object CMakeFiles/ranc_sim.dir/src/outputbus.cpp.o\u001b[0m\n",
            "[ 58%] \u001b[32mBuilding CXX object CMakeFiles/ranc_sim.dir/src/packet.cpp.o\u001b[0m\n",
            "[ 66%] \u001b[32mBuilding CXX object CMakeFiles/ranc_sim.dir/src/rancgrid.cpp.o\u001b[0m\n",
            "[ 75%] \u001b[32mBuilding CXX object CMakeFiles/ranc_sim.dir/src/router.cpp.o\u001b[0m\n",
            "[ 83%] \u001b[32mBuilding CXX object CMakeFiles/ranc_sim.dir/src/scheduler.cpp.o\u001b[0m\n",
            "[ 91%] \u001b[32mBuilding CXX object CMakeFiles/ranc_sim.dir/src/schedulersram.cpp.o\u001b[0m\n",
            "[100%] \u001b[32m\u001b[1mLinking CXX executable ranc_sim\u001b[0m\n",
            "[100%] Built target ranc_sim\n"
          ]
        }
      ],
      "source": [
        "!cmake \"..\"\n",
        "!make"
      ]
    },
    {
      "cell_type": "markdown",
      "metadata": {
        "id": "MVd3VwY9sO_K"
      },
      "source": [
        "**Chạy code**"
      ]
    },
    {
      "cell_type": "markdown",
      "metadata": {
        "id": "3Ddsl-uhsdWK"
      },
      "source": [
        "Muốn chạy với x ảnh thì số tick là x + 1, do trễ 1 tick từ 1 layer"
      ]
    },
    {
      "cell_type": "code",
      "execution_count": null,
      "metadata": {
        "colab": {
          "base_uri": "https://localhost:8080/"
        },
        "id": "9iRbm6f_yTWK",
        "outputId": "1ef76c3d-1341-4f67-8499-fbb3a90173e0"
      },
      "outputs": [
        {
          "output_type": "stream",
          "name": "stdout",
          "text": [
            "/content/simulator/build\n"
          ]
        }
      ],
      "source": [
        "cd /content/simulator/build"
      ]
    },
    {
      "cell_type": "code",
      "execution_count": null,
      "metadata": {
        "id": "L3vAU8dIdZfz"
      },
      "outputs": [],
      "source": [
        "!/content/simulator/build/ranc_sim -i /content/software/input.json -o /content/simulator_output.txt -c /content/simulator/config.json 10001"
      ]
    },
    {
      "cell_type": "markdown",
      "metadata": {
        "id": "3G_YgDCic2HH"
      },
      "source": [
        "# **SO SÁNH ĐẦU RA TỪ SIMULATOR VỚI ĐẦU RA CỦA TENSORFLOW**"
      ]
    },
    {
      "cell_type": "markdown",
      "metadata": {
        "id": "Po2QXAUZeVDp"
      },
      "source": [
        "Tiến hành upload file output của simulator lên colab, chạy đoạn code này để so sánh\n",
        "\n",
        "Lưu ý:\n",
        "\n",
        "- Tên file đặt là \"simulator_output.txt\" và lưu trong đường dẫn hiện tại đang cd đến\n",
        "\n",
        "- Trước khi upload, xóa 2 dòng đầu tiên trong file output đi (chi tiết trong file doc)"
      ]
    },
    {
      "cell_type": "code",
      "execution_count": null,
      "metadata": {
        "colab": {
          "base_uri": "https://localhost:8080/"
        },
        "id": "f69lEYcm-S-s",
        "outputId": "dc943fc4-bac7-4058-feee-f5f508ae130b"
      },
      "outputs": [
        {
          "output_type": "stream",
          "name": "stdout",
          "text": [
            "(10000,)\n",
            "Tensorflow output matches simulator output exactly!\n",
            "Testing accuracy against known class labels is 91.52%\n"
          ]
        }
      ],
      "source": [
        "    # TODO: Add usage example for outputting to emulation via rancutils.emulation.write_cores, etc.\n",
        "\n",
        "    ###\n",
        "    # ...\n",
        "    # Start the simulator, etc, and collect results...\n",
        "    # ...\n",
        "    ###\n",
        "\n",
        "    # Process the output to collect final classificaiton results and compare against Tensorflow predictions\n",
        "    from rancutils.simulator import collect_classifications_from_simulator\n",
        "    tf_output = np.load(\"/content/software/tf_preds.txt\"+\".npy\")\n",
        "    correct_output = np.load(\"/content/software/correct_preds.txt\"+\".npy\")\n",
        "    simulator_output = collect_classifications_from_simulator(\"/content/simulator_output.txt\", num_classes=10)\n",
        "\n",
        "    tf_output_flat = np.array([0] * tf_output.shape[0])\n",
        "    for i in range(tf_output.shape[0]):\n",
        "        output_i = tf_output[i, :]\n",
        "        decision = np.where(output_i == max(output_i))[0]\n",
        "        if len(decision) > 1:\n",
        "            decision = decision[0]\n",
        "        tf_output_flat[i] = decision\n",
        "    tf_output = tf_output_flat\n",
        "\n",
        "    correct_output_flat = np.array([0] * correct_output.shape[0])\n",
        "    for i in range(correct_output.shape[0]):\n",
        "        output_i = correct_output[i, :]\n",
        "        decision = np.where(output_i == max(output_i))[0]\n",
        "        if len(decision) > 1:\n",
        "            decision = decision[0]\n",
        "        correct_output_flat[i] = decision\n",
        "    correct_output = correct_output_flat\n",
        "    print(simulator_output.shape)\n",
        "    if all(tf_output == simulator_output):\n",
        "        print(\"Tensorflow output matches simulator output exactly!\")\n",
        "        print(f\"Testing accuracy against known class labels is {(len(np.where(tf_output == correct_output[:len(tf_output)])[0]) / len(tf_output)) * 100}%\")\n",
        "    else:\n",
        "        print(\"There are differences between Tensorflow and the simulator...\")\n",
        "        print(f\"Differences are in indices {np.where(tf_output != simulator_output)}\")\n",
        "        print(f\"Tensorflow thought the classes were {tf_output[np.where(tf_output != simulator_output)]}\")\n",
        "        print(f\"The simulator thought the classes were {simulator_output[np.where(tf_output != simulator_output)]}\")\n",
        "        print(f\"The correct classes were {correct_output[np.where(tf_output != simulator_output)]}\")"
      ]
    }
  ],
  "metadata": {
    "colab": {
      "provenance": [],
      "include_colab_link": true
    },
    "kernelspec": {
      "display_name": "Python 3",
      "name": "python3"
    },
    "language_info": {
      "name": "python"
    }
  },
  "nbformat": 4,
  "nbformat_minor": 0
}